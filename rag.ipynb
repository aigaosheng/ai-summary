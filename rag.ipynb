{
 "cells": [
  {
   "cell_type": "code",
   "execution_count": 8,
   "id": "08505797-98fe-422b-8016-eda6b03ac929",
   "metadata": {},
   "outputs": [],
   "source": [
    "from langchain.document_loaders import PyPDFLoader\n",
    "from langchain_core.documents.base import Document\n",
    "\n",
    "pfile = \"/home/gs/Downloads/Alibaba Group Announces December Quarter 2023 Results.pdf\"\n",
    "# pfile = \"/home/gs/Downloads/INVOICE _ GAO Sheng.pdf\"\n",
    "pdf_loader = PyPDFLoader(pfile)\n",
    "\n",
    "# text_splitter = RecursiveCharacterTextSplitter(#separators=[\"\\n\"], \n",
    "#                                                chunk_size = 256, chunk_overlap=8, keep_separator = True)\n",
    "pages = pdf_loader.load() #_and_split(text_splitter)\n",
    "\n",
    "# vector_index = Chroma.from_documents(pages, llm_embed_model).as_retriever(\n",
    "#     # search_type=\"similarity_score_threshold\",\n",
    "#     search_kwargs={'k': 20}\n",
    "# )\n",
    "# pages[3]\n",
    "# Document(page_content=\"\", metadata={\"a\":1})\n",
    "# para_meta"
   ]
  },
  {
   "cell_type": "code",
   "execution_count": 9,
   "id": "a29b9247-ca0e-45fb-b825-f471e32aebaa",
   "metadata": {},
   "outputs": [],
   "source": [
    "from pypdf import PdfReader\n",
    "from copy import deepcopy\n",
    "pfile = \"/home/gs/Downloads/Alibaba Group Announces December Quarter 2023 Results.pdf\"\n",
    "reader = PdfReader(pfile)\n",
    "pages2 = list(map(lambda x: x.extract_text(extraction_mode=\"layout\"), reader.pages))\n",
    "\n",
    "def paragraph_process(doc_pages, source = None, company = None, year = None):\n",
    "    def single_page(i_text, page_id, is_lower = True):\n",
    "        i_text = i_text.lower() if is_lower else i_text\n",
    "        \n",
    "        nn = len(i_text)\n",
    "        pg_stack = [] #paragraph list\n",
    "        ss = \"\"\n",
    "        k = 0\n",
    "        while k < nn:\n",
    "            if i_text[k] == \"\\n\":\n",
    "                kp = k + 1\n",
    "                rt_ct = 0\n",
    "                while kp < nn:\n",
    "                    if i_text[kp] == \"\\n\":\n",
    "                        rt_ct += 1\n",
    "                        kp += 1\n",
    "                    elif i_text[kp] == \" \":\n",
    "                        kp += 1\n",
    "                        continue\n",
    "                    else:\n",
    "                        break\n",
    "                if rt_ct >= 1:\n",
    "                    #paragraph\n",
    "                    # ss += \"\\n\"\n",
    "                    pg_stack.append(ss)\n",
    "                    ss = \"\"\n",
    "                    k = kp\n",
    "                else:\n",
    "                    ss += \" \"\n",
    "                    k += 1\n",
    "            elif i_text[k] == \" \":\n",
    "                #space\n",
    "                kp = k + 1\n",
    "                rt_ct = 0\n",
    "                while kp < nn:\n",
    "                    if i_text[kp] == \" \":\n",
    "                        rt_ct += 1\n",
    "                        kp += 1\n",
    "                    else:\n",
    "                        break\n",
    "                ss += \" \"\n",
    "                k = kp            \n",
    "            else:\n",
    "                ss += i_text[k]\n",
    "                k += 1\n",
    "        # pg = list(map(lambda x: x.strip(), filter(lambda x: len(x) >= 1, ss.split(\"\\n\"))))\n",
    "        try:\n",
    "            pg_id = int(pg_stack[-1])\n",
    "            pg_stack = pg_stack[:-1] if pg_id - 1 == page_id else pg_stack\n",
    "        except:\n",
    "            try:\n",
    "                pg_id = int(pg_stack[0])\n",
    "                pg_stack = pg_stack[1:] if pg_id - 1 == page_id else pg_stack\n",
    "            except:\n",
    "                pg_id = None\n",
    "        \n",
    "        # print(f\"{page_id}, {pg_id}, {pg_stack}\")\n",
    "        # print(f\"** {ss}, {k}\")\n",
    "        return pg_stack\n",
    "\n",
    "    #process page-by-page\n",
    "    para_docs = []\n",
    "    para_doc_pid = []\n",
    "    for pid, pcontent in enumerate(doc_pages):\n",
    "        ss = single_page(pcontent, pid, is_lower = True)\n",
    "        para_docs.extend(ss)\n",
    "        para_doc_pid.extend([{\"page\": pid, \"source\": source, \"company\": company, \"year\": 2023}] * len(ss))\n",
    "\n",
    "    return para_docs, para_doc_pid\n",
    "\n",
    "def chunk_create(content_lst: list[str], metadata_lst: list[{}] = None, chunk_size: int = 256):\n",
    "    k = 0\n",
    "    chunk_stack = []\n",
    "    chunk_meta_stack = []\n",
    "    chunk_str = \"\"\n",
    "    nn = len(content_lst)\n",
    "    metadata_lst = metadata_lst if metadata_lst else [{}] * nn\n",
    "    doc_ct = 0\n",
    "    while k < nn:\n",
    "        if len(chunk_str.split(\" \")) >= chunk_size:\n",
    "            chunk_meta = metadata_lst[k - 1]\n",
    "            chunk_meta[\"docid\"] = deepcopy(doc_ct)              \n",
    "            tmpdoc = Document(page_content = chunk_str.strip(), metadata=chunk_meta)\n",
    "            chunk_stack.append(tmpdoc)\n",
    "            chunk_str = content_lst[k]\n",
    "            doc_ct += 1\n",
    "        else:\n",
    "            tmpstr = chunk_str + \" \" + content_lst[k]\n",
    "            if len(tmpstr.split(\" \")) > chunk_size and len(content_lst[k].split(\" \")) >= chunk_size//2:\n",
    "                chunk_meta = metadata_lst[k - 1]\n",
    "                chunk_meta[\"docid\"] = deepcopy(doc_ct)                \n",
    "                tmpdoc = Document(page_content = chunk_str.strip(), metadata=chunk_meta)\n",
    "                chunk_stack.append(tmpdoc)\n",
    "                # chunk_stack.append(chunk_str.strip())\n",
    "                chunk_str = content_lst[k]\n",
    "                doc_ct += 1\n",
    "            else:\n",
    "                chunk_str = tmpstr\n",
    "        # print(f\"** {k}, {chunk_str}, {content_lst[k]}\")\n",
    "        k += 1\n",
    "        \n",
    "    if len(chunk_str.split(\" \")) > 0 and len(chunk_str.split(\" \")) < chunk_size//2:\n",
    "        if len(chunk_stack): \n",
    "            tmpstr = chunk_stack[-1].page_content + \" \" + chunk_str\n",
    "            chunk_meta = metadata_lst[nn - 1]\n",
    "            chunk_meta[\"docid\"] = deepcopy(doc_ct) \n",
    "            chunk_stack[-1] = Document(page_content = tmpstr.strip(), metadata=chunk_meta)\n",
    "        else:\n",
    "            chunk_meta = metadata_lst[nn - 1]\n",
    "            chunk_meta[\"docid\"] = deepcopy(doc_ct) + 1\n",
    "            tmpdoc = Document(page_content = tmpstr.strip(), metadata=chunk_meta)\n",
    "            chunk_stack.append(tmpdoc)\n",
    "            # chunk_stack.append(chunk_str.strip())\n",
    "    else:\n",
    "        chunk_meta = metadata_lst[nn - 1]\n",
    "        chunk_meta[\"docid\"] = deepcopy(doc_ct) + 1\n",
    "        tmpdoc = Document(page_content = tmpstr.strip(), metadata=chunk_meta)\n",
    "        chunk_stack.append(tmpdoc)\n",
    "        # chunk_stack.append(chunk_str.strip())\n",
    "\n",
    "    # print(chunk_stack)\n",
    "    return chunk_stack\n",
    "            \n",
    "    #\n",
    "    \n",
    "\n",
    "# idd = 0\n",
    "# para_docs = []\n",
    "# chunk_docs = []\n",
    "# para_doc_pid = []\n",
    "# for pid, pcontent in enumerate(pages2):\n",
    "#     ss = paragraph_process(pcontent, reader.get_page_number(reader.pages[pid]))\n",
    "#     para_docs.extend(ss)\n",
    "#     para_doc_pid.extend([pid] * len(ss))\n",
    "\n",
    "para_docs, para_meta = paragraph_process(pages2, source = pfile, company = \"alibaba\", year = 2023)\n",
    "chunk_docs = chunk_create(para_docs, para_meta, chunk_size = 256)\n",
    "# print(\"\\n***\".join(ss.split(\"\\n\")))\n",
    "\n",
    "# print(\"\\n***\".join(para_docs))\n",
    "# print(\"\\n***\".join(chunk_docs))\n",
    "# print(len(pages2[idd]))\n",
    "# pages2[idd]\n",
    "# print(pages2[-1])#.replace(\"  \", \"\"))#.replace(\"\\n\", \" \"))\n",
    "# for v in reader.stream():\n",
    "#     print(v)\n"
   ]
  },
  {
   "cell_type": "code",
   "execution_count": 10,
   "id": "98f8f18f-132b-4e6f-a020-945d3db37cea",
   "metadata": {},
   "outputs": [],
   "source": [
    "# pages2"
   ]
  },
  {
   "cell_type": "code",
   "execution_count": 127,
   "id": "7844343c-20a3-48a4-8878-b5768957b818",
   "metadata": {},
   "outputs": [],
   "source": [
    "import pypdf\n",
    "import os\n",
    "from llama_cpp import Llama\n",
    "import pydantic\n",
    "from langchain.callbacks.manager import CallbackManager\n",
    "from langchain.callbacks.streaming_stdout import StreamingStdOutCallbackHandler\n",
    "from langchain.chains import LLMChain\n",
    "from langchain.prompts import PromptTemplate\n",
    "from langchain_community.llms import LlamaCpp\n",
    "from langchain_community.embeddings import LlamaCppEmbeddings\n",
    "from langchain.document_loaders import PyPDFLoader\n",
    "from langchain.chains.question_answering import load_qa_chain\n",
    "from langchain_community.document_loaders import PyPDFLoader\n",
    "from tempfile import NamedTemporaryFile\n",
    "from langchain.vectorstores import Chroma, FAISS\n",
    "import json\n",
    "from langchain_text_splitters import CharacterTextSplitter, RecursiveCharacterTextSplitter\n",
    "\n",
    "model_name = \"/home/gs/hf_home/models/models--google--gemma-2b-it/gemma-2b-it.gguf\"\n",
    "model_name_embed = \"/home/gs/hf_home/models/models--google--gemma-2b/gemma-2b.gguf\"\n",
    "\n",
    "#define consistent parametes\n",
    "# n_batch >= chunk-size\n",
    "chunk_size = 512\n",
    "\n",
    "llm_embed_model = LlamaCppEmbeddings(\n",
    "    model_path = model_name_embed, \n",
    "    n_gpu_layers = -1, \n",
    "    n_ctx = 512 * 4, \n",
    "    n_batch = chunk_size, \n",
    "    verbose=False\n",
    ")\n",
    "llm_chat_model = LlamaCpp(\n",
    "        model_path=model_name,\n",
    "        n_gpu_layers=-1,\n",
    "        n_batch = chunk_size,\n",
    "        # callback_manager=callback_manager,\n",
    "        n_ctx=1024*4, # Uncomment to increase the context window\n",
    "        # temperature=0.75,\n",
    "        # f16_kv=True,\n",
    "        verbose=False,  # Verbose is required to pass to the callback manager\n",
    ")\n"
   ]
  },
  {
   "cell_type": "code",
   "execution_count": 97,
   "id": "1d779648-bdf7-43e8-9695-072a0aad8fb2",
   "metadata": {},
   "outputs": [],
   "source": [
    "# chunk_docs2 = list(map(lambda x: x.lower(), chunk_docs))\n",
    "# para_docs"
   ]
  },
  {
   "cell_type": "code",
   "execution_count": 120,
   "id": "12c74488-d4f7-47be-84eb-ae378f30f367",
   "metadata": {},
   "outputs": [],
   "source": [
    "db = FAISS.from_texts(chunk_docs2, llm_embed_model).as_retriever()\n",
    "doc = db.get_relevant_documents(\n",
    "    \"\"\"\n",
    "    chief executive officer\n",
    "    \"\"\".lower()\n",
    ")\n",
    "doc\n"
   ]
  },
  {
   "cell_type": "code",
   "execution_count": 130,
   "id": "ac26d258-69fc-4d88-887a-d8b1c62db60f",
   "metadata": {},
   "outputs": [
    {
     "data": {
      "text/plain": [
       "[Document(page_content='  alibaba group announces december quarter 2023 results hangzhou, china, february 7 , 2024 – alibaba group holding limited (nyse: baba and hkex: 9988 (hkd counter) and 89988 (rmb counter), “alibaba” or “alibaba group”) today announced its financial results for the quarter ended december 31, 2023. “we delivered a solid quarter as we are executing our focused strategies across the organization. our top priority is to reignite the growth of our core businesses, e -commerce and cloud computing. we will step up investment to improve user s ’ core experiences to drive growth in taobao and tmall group and strengthen market leadership in the coming year. we will also focus our resources on developing public cloud products and sustaining the strong growth momentum in international commerce business ,” said eddie wu, chief executive officer of alibaba group. “alibaba group delivered a healthy quarter with revenue growth of 5% year -over -year. we in creased our investment in strategic priorities and improved shareholder return by leveraging our strong balance sheet and cash flow . our board of directors approved an increase of us$25 billion to our share repurchase program, demonstrating our confidence in the outlook of our business and cash flow. our consistent share repurchase has also reduce d outstanding share count while achiev ing eps and cash flow per share accretion,” said toby xu, chief financial officer of alibaba group. business highlights in the quarter ended december 31, 2023: • revenue was rmb260,348 million (us$36,669 million), an increase of 5% year -over -year. • income from operations was rmb22,511 million (us$3,171 million), a decrease of 36% year -  over -year. the year -over -year decrease was primarily attributable to impairment of intangible assets  of sun art and impairment of goodwill of youku . adjusted ebita , a non -gaap measurement  (excluding share -based compensation expense , impairment of intangible assets and goodwill and  certain other items ), increased 2% year -over -year to rmb52,843 million (us$7,443 million).'),\n",
       " Document(page_content='(1) see the table above for the reconciliation of net income to non -gaap net income for more information of these non -gaap  adjustments.  (2) each ads represents eight ordinary shares.  (3) diluted earnings per share is derived from dividing net income attributable to ordinary shareholders by the weighted average  number of outstanding ordinary shares, on a diluted basis. diluted earnings per ads is derived from the diluted earnings per  share after adjusting for the ordinary share -to -ads ratio.  (4) non -gaap diluted earnings per share is derived from dividing non -gaap net income attributable to ordinary shareholders  by the weighted average number of outstanding ordinary shares for computing non -gaap diluted earnings per share, on a  diluted basis. non -gaap diluted earnings per ads is derived from the non -gaap diluted earnings per share after adjusting  for the ordinary share -to -ads ratio.  alibaba group holding limited  reconciliation s of non -gaap measures to the nearest comparable u.s.  gaap measures (continued) the table below sets forth a reconciliation of net cash provided by operating activities to free cash flow  for the periods indicated: three months ended december 31, nine months ended december 31 ,  2022 2023 2022 2023  rmb rmb us$ rmb rmb us$  (in millions) (in millions)  net cash provided by  operating activities 87,370 64,716 9,115 168,351 159,253 22,430  less: purchase of property and  equipment (excluding land  use rights and construction in  progress relating to office  campuses) (5,793) (7,286) (1,026) (27,860) (17,405) (2,451)  less: purchase of intangible  assets (excluding those  acquired through  acquisitions) — (842) (119) (22) (842) (119)  less: changes in the  buyer protection fund  deposits (63) (48) (7) (1,073) (157) (22) free cash flow 81,514 56,540 7,963 139,396 140,849 19,838'),\n",
       " Document(page_content='(1) see the sections entitled “non -gaap financial measures” and “reconciliations of non -gaap measures to the nearest  comparable u.s. gaap measures” for more information about the non -gaap measures referred to within this results  announcement. (2) the year -over -year de crease was primarily attributable to impairment of intangible assets of sun art and impairment of  goodwill of youku . (3) the year -over -year increases were primarily contributed by revenue growth and improved operating efficiency that was  partly offset by the increase in investments in certain businesses. (4) the year -ove r-year decrease in net income wa s primarily attributable to mark -to -mark et changes from our equity  investments and the decrease in income from operations due to the impairment as mentioned above. we excluded share -  based compensation expense, gains/losses of investments, impairment of intangible assets and goodwill , and certain other  items from our non -gaap measurements. (5) each ads represents eight ordinary shares. (6) the year -over -year percentages as stated are calculated based on the exact amount and there may be minor differences from  the year -over -year percentages calculated based on the rmb amounts after rounding. december quarter segment results revenue for the quarter ended december 31, 2023 was rmb260,348 million (us$36,669 million), an increase of 5% year -over -year compared to rmb247,756 million in the same quarter of 2022. starting from the quarter ended june 30, 2023, we have implemented a new organizational structure which includes six major business groups and various other businesses (the “reorganization”). our segment reporting has been updated to reflect our reorganiza tion and how our chief operating decision maker (“codm”) review information under our new structure.'),\n",
       " Document(page_content='(2) all others include sun art, freshippo, alibaba health, lingxi games, intime, intelligent information platform (which mainly  consists of ucweb and quark businesses), fliggy, dingtalk (previously reported under cloud intelligence group segment)  and other bus inesses. (3) unallocated primarily relate s to certain costs incurred by corporate functions and other miscellaneous items that are not  allocated to individual segments. (4) for a more intuitive presentation, widening of loss in yoy% is shown in terms of negative growth rate, and narrowing of loss  in yoy% is shown in terms of positive growth rate. taobao and tmall group (i) s egment revenue • china commerce retail business revenue from our china commerce retail business in the quarter ended december 31, 2023 was  rmb123,762 million (us$17,432 million), an increase of 1% compared to rmb122,736 million in  the same quarter of 2022. customer management revenue remained stable year -over -year, primarily due to healthy growth in  online gmv generated on taobao and tmall, excluding unpaid order s , partly offset by decline in  overall take rate . t he overall take rate decrease d slightly year -over -year mainly because the increase  in gmv came from taobao merchants. direct sales and others revenue under china commerce retail business in the quarter ended december  31, 2023 was rmb31,649 million (us$4,458 million), an increase of 2% compared to rmb31,042  million in the same quarter of 2022. • china commerce wholesale business revenue from our china commerce wholesale business in the quarter ended december 31, 2023 was  rmb5,308 million (us$747 million), an increase of 23% compared to rmb4,329 million in the  same quarter of 2022 , primarily due to an increase in revenue from value -added services provided to  paying members.')]"
      ]
     },
     "execution_count": 130,
     "metadata": {},
     "output_type": "execute_result"
    }
   ],
   "source": [
    "from langchain_community.retrievers import BM25Retriever, TFIDFRetriever\n",
    "\n",
    "db2 = TFIDFRetriever.from_texts(chunk_docs2, k = 4)\n",
    "doc2 = db2.get_relevant_documents(\n",
    "    \"who is chief exective officer?\"\n",
    "   )\n",
    "doc2\n"
   ]
  },
  {
   "cell_type": "code",
   "execution_count": 57,
   "id": "435050cc-dc5f-4885-a8fc-741683b85cf4",
   "metadata": {},
   "outputs": [
    {
     "data": {
      "text/plain": [
       "'  alibaba group announces december quarter 2023 results hangzhou, china, february 7 , 2024 – alibaba group holding limited (nyse: baba and hkex: 9988 (hkd counter) and 89988 (rmb counter), “alibaba” or “alibaba group”) today announced its financial results for the quarter ended december 31, 2023. “we delivered a solid quarter as we are executing our focused strategies across the organization. our top priority is to reignite the growth of our core businesses, e -commerce and cloud computing. we will step up investment to improve user s ’ core experiences to drive growth in taobao and tmall group and strengthen market leadership in the coming year. we will also focus our resources on developing public cloud products and sustaining the strong growth momentum in international commerce business ,” said eddie wu, chief executive officer of alibaba group. “alibaba group delivered a healthy quarter with revenue growth of 5% year -over -year. we in creased our investment in strategic priorities and improved shareholder return by leveraging our strong balance sheet and cash flow . our board of directors approved an increase of us$25 billion to our share repurchase program, demonstrating our confidence in the outlook of our business and cash flow. our consistent share repurchase has also reduce d outstanding share count while achiev ing eps and cash flow per share accretion,” said toby xu, chief financial officer of alibaba group. business highlights in the quarter ended december 31, 2023: • revenue was rmb260,348 million (us$36,669 million), an increase of 5% year -over -year. • income from operations was rmb22,511 million (us$3,171 million), a decrease of 36% year -  over -year. the year -over -year decrease was primarily attributable to impairment of intangible assets  of sun art and impairment of goodwill of youku . adjusted ebita , a non -gaap measurement  (excluding share -based compensation expense , impairment of intangible assets and goodwill and  certain other items ), increased 2% year -over -year to rmb52,843 million (us$7,443 million).'"
      ]
     },
     "execution_count": 57,
     "metadata": {},
     "output_type": "execute_result"
    }
   ],
   "source": [
    "chunk_docs2[0]"
   ]
  },
  {
   "cell_type": "code",
   "execution_count": 139,
   "id": "1654acd8-e46b-4178-850f-c509a66a475e",
   "metadata": {},
   "outputs": [
    {
     "data": {
      "text/plain": [
       "'Answer: The number of revenue growth rate is not explicitly mentioned in the context, so I cannot answer this question from the provided context.'"
      ]
     },
     "execution_count": 139,
     "metadata": {},
     "output_type": "execute_result"
    }
   ],
   "source": [
    "from langchain_community.vectorstores import DocArrayInMemorySearch\n",
    "from langchain_core.output_parsers import StrOutputParser\n",
    "from langchain_core.prompts import ChatPromptTemplate\n",
    "from langchain_core.runnables import RunnableParallel, RunnablePassthrough\n",
    "from langchain_community.document_loaders import TextLoader\n",
    "\n",
    "template = \"\"\"Answer the question based only on the following context:\n",
    "{context}\n",
    "\n",
    "Question: {question}\n",
    "\"\"\"\n",
    "prompt = ChatPromptTemplate.from_template(template)\n",
    "output_parser = StrOutputParser()\n",
    "\n",
    "setup_and_retrieval = RunnableParallel(\n",
    "    {\"context\": db2, \"question\": RunnablePassthrough()}\n",
    ")\n",
    "chain = setup_and_retrieval | prompt | llm_chat_model | output_parser\n",
    "\n",
    "query = \"what is the number of revenue growth rate?\"\n",
    "\n",
    "chain.invoke(query)"
   ]
  },
  {
   "cell_type": "code",
   "execution_count": 142,
   "id": "3f6a5790-24a1-4835-a524-cfdd8d9fc7fe",
   "metadata": {},
   "outputs": [
    {
     "name": "stdout",
     "output_type": "stream",
     "text": [
      "The revenue growth rate is calculated by dividing the difference between current year revenue and previous year revenue by the previous year revenue. \n",
      "\n",
      "Therefore, in this case, the revenue growth rate for taobao and tmall group in the quarter ended December 31, 2023, would be calculated as follows: \n",
      "\n",
      "(rmb129,070 million - rmb122,736 million) / rmb122,736 million = 2%\n"
     ]
    }
   ],
   "source": [
    "prompt_template = \"\"\"Answer the question as precise as possible using the provided context. If the answer is\n",
    "                    not contained in the context, say \"answer not available in context\" \\n\\n\n",
    "                    Context: \\n {context}?\\n\n",
    "                    Question: \\n {question} \\n\n",
    "                    Answer:\n",
    "                  \"\"\"\n",
    "\n",
    "prompt = PromptTemplate(\n",
    "    template=prompt_template, input_variables=[\"context\", \"question\"]\n",
    ")\n",
    "stuff_chain = load_qa_chain(llm_chat_model, chain_type=\"stuff\", prompt=prompt)\n",
    "question = \"what is revenue growth rate?\" #\"how many revenue achieved in 2023\" # #\"how many revenue achieved?\" ##\"how many employees by end of 2023?\" #\n",
    "context_str = db2.get_relevant_documents(question)#, k=50, fetch_k=100)\n",
    "stuff_answer = stuff_chain(\n",
    "    {\"input_documents\": context_str, \"question\": question}, return_only_outputs=True\n",
    ")\n",
    "print(stuff_answer[\"output_text\"])"
   ]
  },
  {
   "cell_type": "code",
   "execution_count": 6,
   "id": "a8391cc0-b090-457b-89aa-34dba052a5fa",
   "metadata": {},
   "outputs": [
    {
     "data": {
      "text/plain": [
       "\"\\n\\n\\n\\n\\n\\n\\n\\n\\n\\n\\n\\n\\n\\n\\n\\n\\n\\n\\n\\n\\n\\n\\n\\n\\n\\n\\n\\n\\n\\n\\n\\n\\n\\n\\n\\n\\n\\n\\n\\n\\n\\n\\n\\n\\n\\n\\n\\n\\n\\n\\n\\n\\n\\n\\n\\n\\n\\n\\n\\n\\n\\n\\n\\n\\n\\n\\n\\n\\n\\n\\n\\nMediShield Life to start on Nov 1 | The Straits Times\\n\\n\\n\\n\\n\\n\\n\\n\\n\\n\\n\\n\\n\\n\\n\\n\\n\\n\\n\\n\\n\\n\\n\\n\\n\\n\\n\\n\\n\\n\\n\\n\\n\\n\\n\\n\\n\\n\\n\\n\\n\\n\\n\\n\\n\\n\\n\\n\\n\\n\\n\\n\\n\\n\\n\\n\\n\\n\\n\\n\\n\\n\\n\\n\\n\\n\\n\\n\\n\\n\\n\\n\\n\\n\\nThe Straits Times\\n\\n\\nToggle navigation\\n\\n\\n\\n\\n\\n\\n\\n\\n\\n\\nThe Straits Times\\n\\n\\n\\n\\nSingapore\\n\\n\\n\\n\\n\\n\\n\\nThe Straits Times\\n\\n\\n\\n\\n                Edition\\n                :\\n\\n\\n\\n\\nInternational\\n\\n\\nSingapore\\n\\n\\n\\n\\n\\n\\n\\n\\nMain navigation\\n\\n\\nHome\\n\\n\\nSingapore\\n\\nToggle Dropdown\\n\\n\\n\\nJobs\\n\\n\\nHousing\\n\\n\\nParenting & Education\\n\\n\\nPolitics\\n\\n\\nHealth\\n\\n\\nTransport\\n\\n\\nCourts & Crime\\n\\n\\nConsumer\\n\\n\\nEnvironment\\n\\n\\nCommunity\\n\\n\\n\\n\\nAsia\\n\\nToggle Dropdown\\n\\n\\n\\nSE Asia\\n\\n\\nEast Asia\\n\\n\\nSouth Asia\\n\\n\\nAustralia/NZ\\n\\n\\n\\n\\nWorld\\n\\nToggle Dropdown\\n\\n\\n\\nUnited States\\n\\n\\nEurope\\n\\n\\nMiddle East\\n\\n\\n\\n\\nOpinion\\n\\nToggle Dropdown\\n\\n\\n\\nST Editorial\\n\\n\\nCartoons\\n\\n\\nForum\\n\\n\\n\\n\\nLife\\n\\nToggle Dropdown\\n\\n\\n\\nFood\\n\\n\\nEntertainment\\n\\n\\nStyle\\n\\n\\nTravel\\n\\n\\nArts\\n\\n\\nMotoring\\n\\n\\nHome & Design\\n\\n\\n\\n\\nBusiness\\n\\nToggle Dropdown\\n\\n\\n\\nEconomy\\n\\n\\nInvest\\n\\n\\nBanking\\n\\n\\nCompanies & Markets\\n\\n\\nProperty\\n\\n\\n\\n\\nTech\\n\\nToggle Dropdown\\n\\n\\n\\nTech News\\n\\n\\nE-sports\\n\\n\\nReviews\\n\\n\\n\\n\\nSport\\n\\nToggle Dropdown\\n\\n\\n\\nFootball\\n\\n\\nSchools\\n\\n\\nFormula One\\n\\n\\nCombat Sports\\n\\n\\nBasketball\\n\\n\\nTennis\\n\\n\\nGolf\\n\\n\\n\\n\\nMore\\n\\nToggle Dropdown\\n\\n\\n\\nOpinion\\n\\n\\nLife\\n\\n\\nBusiness\\n\\n\\nTech\\n\\n\\nSport\\n\\n\\nVideos\\n\\n\\nPodcasts\\n\\n\\nMultimedia\\n\\n\\n\\n\\n\\n\\n\\n\\n\\n\\n\\n\\n\\n\\n\\n\\n\\n\\n\\n                        LOG IN\\n\\n\\n\\n\\n\\n\\nSubscribe\\n\\n\\n\\n\\n\\n\\n\\n\\n\\nE-paper\\n\\n\\n\\n\\n\\n\\n\\n\\nToggle navigation\\n\\n\\n\\n\\n\\n\\n\\n\\n\\n\\n\\n\\nThe Straits Times\\n\\n\\nToggle navigation\\n\\n\\n\\n\\n\\n\\n\\n\\n\\n\\n\\n\\n\\n\\n\\n\\n\\n\\n                        LOG IN\\n\\n\\n\\n\\n\\n\\nSubscribe\\n\\n\\n\\n\\n\\n\\nEdition\\n\\n\\n\\n\\nInternational\\n\\n\\nSingapore\\n\\n\\n\\n\\n\\n\\n\\n\\n\\nST Read & Win\\n\\n\\n\\n\\n\\n\\n\\n\\n\\nE-paper\\n\\n\\n\\n\\n\\n\\n\\nMain navigation\\n\\n\\nHome\\n\\n\\nSingapore\\n\\nToggle Dropdown\\n\\n\\n\\nJobs\\n\\n\\nHousing\\n\\n\\nParenting & Education\\n\\n\\nPolitics\\n\\n\\nHealth\\n\\n\\nTransport\\n\\n\\nCourts & Crime\\n\\n\\nConsumer\\n\\n\\nEnvironment\\n\\n\\nCommunity\\n\\n\\n\\n\\nAsia\\n\\nToggle Dropdown\\n\\n\\n\\nSE Asia\\n\\n\\nEast Asia\\n\\n\\nSouth Asia\\n\\n\\nAustralia/NZ\\n\\n\\n\\n\\nWorld\\n\\nToggle Dropdown\\n\\n\\n\\nUnited States\\n\\n\\nEurope\\n\\n\\nMiddle East\\n\\n\\n\\n\\nOpinion\\n\\nToggle Dropdown\\n\\n\\n\\nST Editorial\\n\\n\\nCartoons\\n\\n\\nForum\\n\\n\\n\\n\\nLife\\n\\nToggle Dropdown\\n\\n\\n\\nFood\\n\\n\\nEntertainment\\n\\n\\nStyle\\n\\n\\nTravel\\n\\n\\nArts\\n\\n\\nMotoring\\n\\n\\nHome & Design\\n\\n\\n\\n\\nBusiness\\n\\nToggle Dropdown\\n\\n\\n\\nEconomy\\n\\n\\nInvest\\n\\n\\nBanking\\n\\n\\nCompanies & Markets\\n\\n\\nProperty\\n\\n\\n\\n\\nTech\\n\\nToggle Dropdown\\n\\n\\n\\nTech News\\n\\n\\nE-sports\\n\\n\\nReviews\\n\\n\\n\\n\\nSport\\n\\nToggle Dropdown\\n\\n\\n\\nFootball\\n\\n\\nSchools\\n\\n\\nFormula One\\n\\n\\nCombat Sports\\n\\n\\nBasketball\\n\\n\\nTennis\\n\\n\\nGolf\\n\\n\\n\\n\\nMore\\n\\nToggle Dropdown\\n\\n\\n\\nOpinion\\n\\n\\nLife\\n\\n\\nBusiness\\n\\n\\nTech\\n\\n\\nSport\\n\\n\\nVideos\\n\\n\\nPodcasts\\n\\n\\nMultimedia\\n\\n\\n\\n\\n\\n\\n\\n\\n\\n\\n\\nSPH Websites\\n\\n\\nnews with benefits\\n\\n\\nSPH Rewards\\n\\n\\nSTJobs\\n\\n\\nSTClassifieds\\n\\n\\nSITES\\n\\n\\nBerita Harian\\n\\n\\nHardwarezone\\n\\n\\nShin Min Daily News\\n\\n\\nSTOMP\\n\\n\\nSGCarMart\\n\\n\\nSRX Property\\n\\n\\ntabla\\n\\n\\nTamil Murasu\\n\\n\\nThe Business Times\\n\\n\\nThe New Paper\\n\\n\\nLianhe Zaobao\\n\\n\\nObits.sg\\n\\n\\nAdvertise with us\\n\\n\\n\\n\\n\\n\\n\\n\\n\\n\\n\\n\\n\\n\\n\\n\\n\\n\\n\\n\\n\\n\\n\\n\\n\\n\\n\\n\\n\\n\\n\\n\\n\\n\\n\\n\\n\\n\\n\\n\\n\\n\\n\\n\\n\\n\\n\\n\\n\\n\\n\\n\\n\\n\\n\\n\\n \\n\\n        MediShield Life to start on Nov 1\\n\\n\\n\\n\\n\\n\\n \\n\\n\\n\\n      MediShield life, the compulsory health insurance which will cover everyone for their entire life, will start on November 1.\\n\\n      PHOTO: SCREENGRAB FROM MOH.GOV.SG\\n\\n\\n\\n\\n\\n\\n Salma KhalikSenior Health Correspondent\\n\\n\\n\\n\\nUpdated\\n\\n      Jan 20, 2016, 09:27 AM\\n\\n\\nPublished\\n\\n      Aug 02, 2015, 11:00 AM\\n\\n\\n\\n\\n\\n\\n\\n\\nMore\\n\\nWhatsapp\\nLinkedin\\nTwitter\\nFB Messenger\\nEmail\\nPrint\\nPurchase Article\\nCopy permalinkCopy to clipboard \\n\\nhttps://str.sg/3vSw\\n\\n\\n\\n\\n\\n\\n\\n\\n\\n\\n\\n\\n\\nSINGAPORE - MediShield life, the compulsory health insurance which will cover everyone for their entire life, will start on November 1.\\nAnnouncing this on Sunday, Health Minister Gan Kim Yong said letters will be sent in October to those who are currently not insured, telling them what they may need to do.\\nOthers will be informed when it's time to renew their current insurance.\\n\\n\\n\\n\\n\\n\\n\\n\\n\\n\\nMore On This Topic\\n\\n \\n\\nHokkien video on Medishield Life for pioneers gets more than 300k views in 3 days\\n\\n\\n\\n\\n\\n\\n\\n\\n\\nMeanwhile, every household will be sent a MediShield Life booklet in four languages giving them details of the scheme.\\nMediShield Life will provide everyone - both sick and healthy - with lifetime health insurance cover. \\nCoverage will be higher with lower co-payments and no lifetime claim caps, but premiums will be higher than the current scheme.\\n\\n\\n\\n\\n\\n\\nThe Government has assured that this scheme will be made highly affordable with Government aid of about $4 billion over five years being pumped in. There will also be transitional subsidies which will be given to everyone for the first four years.\\n\\nOn top of that, two in three people will also get 15-50 per cent permanent subsidies on their premiums. Additional help will be given to those who still can't afford the premiums.\\nFor the majority, the higher premiums will be entirely covered by Medisave.\\nOn Friday (July 31), it was announced that the 12-member MediShield Life Council had been set up to ensure the scheme's smooth launch. \\nFor the answers to 101 frequently asked questions about the scheme, click here. \\nReaders can also contact ST's Health Correspondent Salma Khalik and view the questions posed to her here. \\n\\n\\n\\n\\n\\n\\n\\nJoin ST's WhatsApp Channel and get the latest news and must-reads.\\n\\n\\n\\n\\n\\n\\nMediShield Life\\n\\nMediSave\\n\\nMinistry of Health\\n\\n\\n\\n\\n\\n\\n\\n\\nMore\\n\\nWhatsapp\\nLinkedin\\nTwitter\\nFB Messenger\\nEmail\\nPrint\\nPurchase Article\\n\\nCopy permalink\\n\\nhttps://str.sg/3vSw\\n\\n\\n\\n\\n\\n\\n\\n\\n\\n\\n\\n\\nRead this subscriber-only article for free!\\nJust sign up for a free account and log in to continue reading.\\n\\nMediShield Life to start on Nov 1\\n\\nSign up\\n\\nAlready have an account? Log in.\\n\\n\\n\\n\\n\\n\\n\\n\\n\\n\\n\\n\\n\\nAll done! This article is now fully available for you\\n\\nMediShield Life to start on Nov 1\\n\\n\\nRead now\\n\\n\\n\\n\\n\\n\\n\\n\\n\\n\\n\\n\\n\\n\\nPlease verify your e-mail to read this subscriber-only article in full\\n\\nMediShield Life to start on Nov 1\\n\\n\\nResend verification e-mail\\n\\n\\n\\n\\n\\n\\n\\n\\n\\n\\n\\n\\n\\n\\nThe gift link for this subscriber-only article has expired.\\nGet unlimited access to all stories at $0.99/month for the first 3 months.\\n\\nSubscribe now\\n\\n\\n\\n\\n\\n\\n\\n\\n\\n\\n\\n\\n\\n\\nYou have reached your limit of subscriber-only articles this month.\\nGet unlimited access to all stories at $0.99/month for the first 3 months.\\nSubscribe now\\n\\n\\n\\n\\n\\n\\n\\n\\n\\n\\n\\n\\n\\n\\n\\nRead and win!\\nRead 3 articles and stand to win rewards\\nLet's go!\\n\\nTerms & conditions apply\\nFrequently asked questions\\n\\n\\n\\n\\n\\n\\n\\n\\n\\n\\n\\n\\n\\n\\n\\nGood job, you've read 3 articles today!\\nSpin the wheel now\\nLet's go!\\n\\nTerms & conditions apply\\nFrequently asked questions\\n\\n\\n\\n\\n\\n\\n\\n\\n\\n\\n\\n\\n\\n\\n\\n\\n\\n\\n\\n\\n\\n\\n\\n\\n\\n\\n\\nThe Straits Times\\n\\nAvailable for\\niPhones and iPads \\nAvailable in\\nGoogle Play \\n\\n\\n\\n\\n\\xa0\\n\\n\\n\\nE-paper\\nFacebook\\nInstagram\\nTwitter\\nLinkedIn\\nNewsletters\\nRSS Feed\\nTelegram\\nYoutube\\nTikTok\\n\\n\\n\\n\\nSingapore\\nAsia\\nWorld\\nOpinion\\nLife\\nBusiness\\nTech\\nSport\\nVideos\\nPodcasts\\nMultimedia\\n\\n\\n\\n\\nAbout Us\\nTerms & Conditions\\nPrivacy Policy\\nNeed help? Reach us here.\\nAdvertise with us\\n\\n\\n\\n\\nMCI (P) 066/10/2023. Published by SPH Media Limited, Co. Regn. No. 202120748H. Copyright © 2024 SPH Media Limited. All rights reserved.\\n\\n\\n\\n\\n\\n\\n\\n\\n\\nBack to the top \\n\\n\\n\\n\\n\\n\\n\\n\\n\\n\\n\\n\\n\\n\\n\\n\\n\\n\\n\\n\\n\\n\\n\\n\\n\\n\\n\\n\\n\\n\\n\\n\""
      ]
     },
     "execution_count": 6,
     "metadata": {},
     "output_type": "execute_result"
    }
   ],
   "source": [
    "from langchain_community.document_loaders import WebBaseLoader\n",
    "loader = WebBaseLoader(\"https://www.straitstimes.com/singapore/health/medishield-life-to-start-on-nov-1\")\n",
    "data = loader.load()\n",
    "data[0].page_content"
   ]
  }
 ],
 "metadata": {
  "kernelspec": {
   "display_name": "Python 3 (ipykernel)",
   "language": "python",
   "name": "python3"
  },
  "language_info": {
   "codemirror_mode": {
    "name": "ipython",
    "version": 3
   },
   "file_extension": ".py",
   "mimetype": "text/x-python",
   "name": "python",
   "nbconvert_exporter": "python",
   "pygments_lexer": "ipython3",
   "version": "3.10.13"
  }
 },
 "nbformat": 4,
 "nbformat_minor": 5
}
